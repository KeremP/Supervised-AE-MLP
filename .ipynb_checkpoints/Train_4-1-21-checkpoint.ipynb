{
 "cells": [
  {
   "cell_type": "code",
   "execution_count": 11,
   "id": "antique-cliff",
   "metadata": {},
   "outputs": [],
   "source": [
    "import os\n",
    "import numpy as np\n",
    "import pandas as pd\n",
    "from tqdm import tqdm, trange\n",
    "import random\n",
    "\n",
    "import torch.nn as nn\n",
    "import torch\n",
    "import torch.nn.functional as F\n",
    "\n",
    "from torch.utils.data import DataLoader, Dataset\n",
    "from torch.nn import MSELoss\n",
    "\n",
    "from sklearn import cluster"
   ]
  },
  {
   "cell_type": "code",
   "execution_count": 4,
   "id": "virtual-outreach",
   "metadata": {},
   "outputs": [],
   "source": [
    "data_path = \"../Numerai/numerai_dataset_257/numerai_training_data.csv\""
   ]
  },
  {
   "cell_type": "code",
   "execution_count": 5,
   "id": "checked-foundation",
   "metadata": {},
   "outputs": [],
   "source": [
    "#Read dataset\n",
    "train = pd.read_csv(data_path)\n",
    "\n",
    "#Dataset is large, quick and dirty memory optimization\n",
    "train = train.astype({c: np.float32 for c in train.select_dtypes(include='float64').columns})"
   ]
  },
  {
   "cell_type": "code",
   "execution_count": 6,
   "id": "northern-construction",
   "metadata": {},
   "outputs": [],
   "source": [
    "feat_cols = [c for c in train.columns if 'feature' in c]"
   ]
  },
  {
   "cell_type": "code",
   "execution_count": 9,
   "id": "adequate-corruption",
   "metadata": {},
   "outputs": [],
   "source": [
    "target = 'target'"
   ]
  },
  {
   "cell_type": "code",
   "execution_count": 10,
   "id": "breeding-modification",
   "metadata": {},
   "outputs": [],
   "source": [
    "train['erano'] = train.era.str.slice(3).astype(int)"
   ]
  },
  {
   "cell_type": "code",
   "execution_count": null,
   "id": "sublime-korean",
   "metadata": {},
   "outputs": [],
   "source": [
    "agglo = cluster.FeatureAgglomeration()"
   ]
  }
 ],
 "metadata": {
  "kernelspec": {
   "display_name": "Python 3",
   "language": "python",
   "name": "python3"
  },
  "language_info": {
   "codemirror_mode": {
    "name": "ipython",
    "version": 3
   },
   "file_extension": ".py",
   "mimetype": "text/x-python",
   "name": "python",
   "nbconvert_exporter": "python",
   "pygments_lexer": "ipython3",
   "version": "3.8.5"
  }
 },
 "nbformat": 4,
 "nbformat_minor": 5
}
